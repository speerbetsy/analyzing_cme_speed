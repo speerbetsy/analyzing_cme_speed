{
 "cells": [
  {
   "cell_type": "code",
   "execution_count": 30,
   "metadata": {
    "collapsed": true
   },
   "outputs": [],
   "source": [
    "%matplotlib inline\n",
    "\n",
    "from matplotlib import pyplot as plt\n",
    "import numpy as np"
   ]
  },
  {
   "cell_type": "code",
   "execution_count": 110,
   "metadata": {},
   "outputs": [],
   "source": [
    "delta_time = 10.0 * 60.0 # Seconds\n",
    "h_0 = 6.95700e8*2 # m\n",
    "v_0 = 500.0 * 1e3 # m/s\n",
    "a_0 = 25 # m/s\n",
    "\n",
    "time = np.arange(0.0, 3.0*60.0*60, delta_time)\n",
    "h = h_0 + (v_0 * time) + (0.5 * (time**2) * a_0)\n",
    "v = v_0 + (time * a_0)"
   ]
  },
  {
   "cell_type": "code",
   "execution_count": 103,
   "metadata": {},
   "outputs": [
    {
     "data": {
      "text/plain": [
       "[<matplotlib.lines.Line2D at 0x108b23f28>]"
      ]
     },
     "execution_count": 103,
     "metadata": {},
     "output_type": "execute_result"
    },
    {
     "data": {
      "image/png": "[encoded data removed]",
      "text/plain": [
       "<matplotlib.figure.Figure at 0x108a078d0>"
      ]
     },
     "metadata": {},
     "output_type": "display_data"
    }
   ],
   "source": [
    "plt.plot(time, h)"
   ]
  },
  {
   "cell_type": "code",
   "execution_count": 104,
   "metadata": {
    "collapsed": true
   },
   "outputs": [
    {
     "name": "stdout",
     "output_type": "stream",
     "text": [
      "v=627.500000 km/s, h=1.706770 R_Sun\na=25.000000 m/s, v=500.000000 km/s, h=2.000000 R_Sun\n"
     ]
    }
   ],
   "source": [
    "A = np.vstack([time, np.ones(len(time))]).T\n",
    "lin = np.linalg.lstsq(A, h)[0]\n",
    "A = np.vstack([time**2, time, np.ones(len(time))]).T\n",
    "quad = np.linalg.lstsq(A, h)[0]\n",
    "\n",
    "print('v=%f km/s, h=%f R_Sun' % (lin[0]/1000, lin[1]/6.95700e8))\n",
    "print('a=%f m/s, v=%f km/s, h=%f R_Sun' % (quad[0]*2, quad[1]/1000, quad[2]/6.95700e8))"
   ]
  },
  {
   "cell_type": "code",
   "execution_count": null,
   "metadata": {},
   "outputs": [],
   "source": [
    "plt.plot(time, v/1000)\n",
    "plt.plot(time, np.repeat(lin[0]/1000, len(time)), '+')\n",
    "plt.plot(time, (quad[1] + (time * 2*quad[0]))/1000, '.')"
   ]
  },
  {
   "cell_type": "code",
   "execution_count": 125,
   "metadata": {},
   "outputs": [
    {
     "data": {
      "text/plain": [
       "array([ 500000.,  507500.,  515000.,  522500.,  530000.,  537500.,\n        545000.,  552500.,  560000.,  567500.,  575000.,  582500.,\n        590000.,  597500.,  605000.,  612500.,  620000.,  627500.])"
      ]
     },
     "execution_count": 125,
     "metadata": {},
     "output_type": "execute_result"
    }
   ],
   "source": [
    "time * quad[0] + quad[1]"
   ]
  }
 ],
 "metadata": {
  "kernelspec": {
   "display_name": "Python 2",
   "language": "python",
   "name": "python2"
  },
  "language_info": {
   "codemirror_mode": {
    "name": "ipython",
    "version": 2.0
   },
   "file_extension": ".py",
   "mimetype": "text/x-python",
   "name": "python",
   "nbconvert_exporter": "python",
   "pygments_lexer": "ipython2",
   "version": "2.7.6"
  }
 },
 "nbformat": 4,
 "nbformat_minor": 0
}